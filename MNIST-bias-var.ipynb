{
 "cells": [
  {
   "cell_type": "code",
   "execution_count": 1,
   "metadata": {},
   "outputs": [],
   "source": [
    "import numpy as np\n",
    "from mlxtend.data import loadlocal_mnist\n",
    "import matplotlib.pyplot as plt\n",
    "from utils_MNIST import * "
   ]
  },
  {
   "cell_type": "code",
   "execution_count": 2,
   "metadata": {},
   "outputs": [],
   "source": [
    "# load MNIST train and test data \n",
    "X, Y = loadlocal_mnist(\n",
    "        images_path='/Users/air/Documents/GitHub/random-features/train-images-idx3-ubyte', \n",
    "        labels_path='/Users/air/Documents/GitHub/random-features/train-labels-idx1-ubyte')\n",
    "\n",
    "X2, Y2 = loadlocal_mnist(\n",
    "        images_path='/Users/air/Documents/GitHub/random-features/t10k-images-idx3-ubyte', \n",
    "        labels_path='/Users/air/Documents/GitHub/random-features/t10k-labels-idx1-ubyte')\n",
    "\n",
    "label1 = 7; label2 = 9; # choosing two classes for regression\n",
    "X_trn, Y_trn, X_tst, Y_tst = make_two_classes(label1, label2, X, Y, X2, Y2)"
   ]
  },
  {
   "cell_type": "code",
   "execution_count": 3,
   "metadata": {},
   "outputs": [],
   "source": [
    "# subsampling training and test datasets\n",
    "np.random.seed(1)\n",
    "N = 100; \n",
    "indx1 = np.random.permutation(X_trn.shape[0])[:N]\n",
    "indx2 = np.random.permutation(X_tst.shape[0])[:N]\n",
    "Xs_trn = X_trn[indx1][:]; Ys_trn = Y_trn[indx1][:];\n",
    "Xs_tst = X_tst[indx2][:]; Ys_tst = Y_tst[indx2][:];"
   ]
  },
  {
   "cell_type": "markdown",
   "metadata": {},
   "source": [
    "# Comparing Expected RF predictor with the Kernel predictor"
   ]
  },
  {
   "cell_type": "code",
   "execution_count": 4,
   "metadata": {},
   "outputs": [
    {
     "data": {
      "text/plain": [
       "0.9999999999999986"
      ]
     },
     "execution_count": 4,
     "metadata": {},
     "output_type": "execute_result"
    }
   ],
   "source": [
    "Y_pred = KernelPredictor(Xs_trn, Ys_trn, Xs_tst)\n",
    "np.linalg.norm(Y_pred - Ys_tst)**2 / Y_pred.size"
   ]
  },
  {
   "cell_type": "code",
   "execution_count": 10,
   "metadata": {},
   "outputs": [
    {
     "name": "stderr",
     "output_type": "stream",
     "text": [
      "/Users/air/Documents/GitHub/random-features/utils_MNIST.py:68: ComplexWarning: Casting complex values to real discards the imaginary part\n",
      "  Y1_all[:,i] = Y1_pred; Y2_all[:,i] = Y2_pred;\n"
     ]
    },
    {
     "name": "stdout",
     "output_type": "stream",
     "text": [
      "78 926.4257367351405 4.32980287345689 469.99166495358963\n",
      "115 2162.8298589562664 33.40168361143281 1910.5997298237219\n",
      "172 454.60227891542934 29.990648783850833 403.1015743809667\n",
      "256 232.5577489423858 30.66371429197599 192.69545618033476\n"
     ]
    }
   ],
   "source": [
    "num_P = 8; \n",
    "P_list = 2**np.linspace(4,num_P,num_P)\n",
    "aver_trn_list = np.zeros(num_P); aver_tst_list = np.zeros(num_P);\n",
    "bias_list = np.zeros(num_P); var_list = np.zeros(num_P);\n",
    "\n",
    "for i in range(num_P-4):\n",
    "    P = int(P_list[i+4]);\n",
    "    aver_trn, aver_tst, bias, var = expectedRFPredictor(Xs_trn, Xs_tst, Ys_trn, Ys_tst, P)\n",
    "    aver_trn_list[i] = aver_trn; aver_tst_list[i] = aver_tst; \n",
    "    bias_list[i] = bias; var_list[i] = var; \n",
    "    print(P, aver_tst, bias, var)"
   ]
  },
  {
   "cell_type": "code",
   "execution_count": 14,
   "metadata": {},
   "outputs": [
    {
     "data": {
      "image/png": "[encoded data removed]",
      "text/plain": [
       "<Figure size 432x288 with 1 Axes>"
      ]
     },
     "metadata": {},
     "output_type": "display_data"
    },
    {
     "data": {
      "image/png": "[encoded data removed]",
      "text/plain": [
       "<Figure size 432x288 with 1 Axes>"
      ]
     },
     "metadata": {},
     "output_type": "display_data"
    }
   ],
   "source": [
    "plt.plot(P_list, aver_trn_list)\n",
    "plt.plot(P_list, aver_tst_list)\n",
    "plt.yscale('log')\n",
    "plt.show()\n",
    "plt.plot(P_list, bias_list)\n",
    "plt.plot(P_list, var_list)\n",
    "plt.yscale('log')"
   ]
  },
  {
   "cell_type": "code",
   "execution_count": 15,
   "metadata": {},
   "outputs": [
    {
     "data": {
      "text/plain": [
       "array([1.01253215e+00, 1.03171550e+00, 1.11396436e+00, 1.27619679e+00,\n",
       "       2.06598215e+00, 3.40545159e+01, 1.15006002e+03, 2.21181922e+02])"
      ]
     },
     "execution_count": 15,
     "metadata": {},
     "output_type": "execute_result"
    }
   ],
   "source": [
    "aver_tst_list"
   ]
  },
  {
   "cell_type": "code",
   "execution_count": 16,
   "metadata": {},
   "outputs": [
    {
     "data": {
      "text/plain": [
       "array([ 0.99803281,  0.99847746,  1.00776565,  1.00730545,  1.02229172,\n",
       "        1.59019116, 44.87526655, 31.62849619])"
      ]
     },
     "execution_count": 16,
     "metadata": {},
     "output_type": "execute_result"
    }
   ],
   "source": [
    "bias_list"
   ]
  },
  {
   "cell_type": "code",
   "execution_count": null,
   "metadata": {},
   "outputs": [],
   "source": []
  }
 ],
 "metadata": {
  "kernelspec": {
   "display_name": "Python 3",
   "language": "python",
   "name": "python3"
  },
  "language_info": {
   "codemirror_mode": {
    "name": "ipython",
    "version": 3
   },
   "file_extension": ".py",
   "mimetype": "text/x-python",
   "name": "python",
   "nbconvert_exporter": "python",
   "pygments_lexer": "ipython3",
   "version": "3.6.8"
  }
 },
 "nbformat": 4,
 "nbformat_minor": 2
}
